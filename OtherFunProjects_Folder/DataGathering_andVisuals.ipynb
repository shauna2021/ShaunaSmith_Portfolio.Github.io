{
 "cells": [
  {
   "cell_type": "markdown",
   "id": "a1746009",
   "metadata": {},
   "source": [
    "Shauna Smith\n",
    "\n",
    "Weeks 9&10: \"Advanced data gathering & Visualization\""
   ]
  },
  {
   "cell_type": "markdown",
   "id": "6aa93bb8",
   "metadata": {},
   "source": [
    "# Week 9 & 10\n",
    "\n",
    "Complete the following exercises. You can submit a Jupyter Notebook or a PDF of your code. If you submit a .py file you need to also include a PDF or attachment of your results.\n",
    "\n",
    "\n",
    "    * -1. Data Wrangling with Python: Activity 9, page 294\n",
    "\n",
    "\n",
    "    * -2. Data Wrangling with Python: Activity 10, page 295\n",
    "\n",
    "\n",
    "    * -3. Connect to the Twitter API and do a simple data pull\n",
    "\n",
    "a. If you don’t have a twitter account – create one at twitter.com/signup (you can delete the account after this assignment)\n",
    "\n",
    "b. Sign in to apps.twitter.com\n",
    "\n",
    "c. Click “Create New App”\n",
    "\n",
    "d. Give your app a name and description\n",
    "\n",
    "e. Agree to the developer agreement – you will want to make sure to indicate this is for a class project, and this step can take several days to get through, so don’t wait until last minute to complete this portion of the assignment\n",
    "\n",
    "f. Create an access token\n",
    "\n",
    "g. You should receive a consumer key and a token\n",
    "\n",
    "h. Using either the instructions from the book on connecting to an API or for help look here – pull back data searching for “Bellevue University” and “Data Science” (or something else you are interested in)\n",
    "\n",
    "i. How to Create a Twitter App and API Interface via Python. (Grogan, 2016)\n",
    "\n",
    "https://www.sitepoint.com/how-to-create-a-twitter-app-and-api-interface-via-python/\n",
    "\n",
    "\n",
    "ii. Welcome Python-Twitter’s Documentation!  (The Python-Twitter Developers, 2016)\n",
    "\n",
    "https://python-twitter.readthedocs.io/en/latest/\n",
    "\n",
    "\n",
    "    * -4. Using one of the datasets provided in Weeks 7 & 8, or a dataset of your own, choose 3 of the following visualizations to complete. You must submit via PDF along with your code. You are free to use Matplotlib, Seaborn or another package if you prefer.\n",
    "\n",
    "a. Line\n",
    "\n",
    "b. Scatter\n",
    "\n",
    "c. Bar\n",
    "\n",
    "d. Histogram\n",
    "\n",
    "e. Density Plot\n",
    "\n",
    "f. Pie Chart\n",
    "\n",
    "\n",
    "Your exercises are due two weeks from Sunday by Midnight of Week 10. Refer to the rubric for more grading detail."
   ]
  },
  {
   "cell_type": "code",
   "execution_count": 1,
   "id": "23425409",
   "metadata": {},
   "outputs": [],
   "source": [
    "###################################################"
   ]
  },
  {
   "cell_type": "markdown",
   "id": "fda7a725",
   "metadata": {},
   "source": [
    "* -1. Data Wrangling with Python: Activity 9, page 294"
   ]
  },
  {
   "cell_type": "code",
   "execution_count": 2,
   "id": "c463f950",
   "metadata": {},
   "outputs": [],
   "source": [
    "#Import the necessary libraries\n",
    "import urllib.request, urllib.parse, urllib.error\n",
    "import requests\n",
    "from bs4 import BeautifulSoup\n",
    "import ssl\n",
    "import re"
   ]
  },
  {
   "cell_type": "code",
   "execution_count": 3,
   "id": "0b557d5a",
   "metadata": {},
   "outputs": [],
   "source": [
    "#Check the SSL certificate\n",
    "check_cert=ssl.create_default_context()\n",
    "check_cert.check_hostname = False\n",
    "check_cert.verify_mode = ssl.CERT_NONE"
   ]
  },
  {
   "cell_type": "code",
   "execution_count": 4,
   "id": "0e9d7382",
   "metadata": {},
   "outputs": [],
   "source": [
    "#URL Read \n",
    "Gute = 'https://www.gutenberg.org/browse/scores/top'\n",
    "response = requests.get(Gute)"
   ]
  },
  {
   "cell_type": "code",
   "execution_count": 5,
   "id": "e86852b9",
   "metadata": {},
   "outputs": [],
   "source": [
    "def stat_check(r):\n",
    "    if r.status_code==200:\n",
    "        print('success you brilliant mistress!')\n",
    "        return 1\n",
    "    else:\n",
    "        print('failure on the front!')\n",
    "        return -1"
   ]
  },
  {
   "cell_type": "code",
   "execution_count": 6,
   "id": "c87aee60",
   "metadata": {},
   "outputs": [
    {
     "name": "stdout",
     "output_type": "stream",
     "text": [
      "success you brilliant mistress!\n"
     ]
    },
    {
     "data": {
      "text/plain": [
       "1"
      ]
     },
     "execution_count": 6,
     "metadata": {},
     "output_type": "execute_result"
    }
   ],
   "source": [
    "stat_check(response)"
   ]
  },
  {
   "cell_type": "code",
   "execution_count": 7,
   "id": "df2b8fa8",
   "metadata": {},
   "outputs": [],
   "source": [
    "#Decode and pass the soup!\n",
    "contents = response.content.decode(response.encoding)\n",
    "my_soup = BeautifulSoup(contents, 'html.parser')"
   ]
  },
  {
   "cell_type": "code",
   "execution_count": 8,
   "id": "1f8e68cc",
   "metadata": {},
   "outputs": [],
   "source": [
    "#list href tags and print 1st 30 \n",
    "ls = []\n",
    "for link in my_soup.find_all('a'):\n",
    "    #print(link.get('href'))\n",
    "    ls.append(link.get('href'))"
   ]
  },
  {
   "cell_type": "code",
   "execution_count": 9,
   "id": "f10fbe37",
   "metadata": {},
   "outputs": [
    {
     "data": {
      "text/plain": [
       "['/',\n",
       " '/about/',\n",
       " '/about/',\n",
       " '/policy/collection_development.html',\n",
       " '/about/contact_information.html',\n",
       " '/about/background/',\n",
       " '/policy/permission.html',\n",
       " '/policy/privacy_policy.html',\n",
       " '/policy/terms_of_use.html',\n",
       " '/ebooks/',\n",
       " '/ebooks/',\n",
       " '/ebooks/bookshelf/',\n",
       " '/browse/scores/top',\n",
       " '/ebooks/offline_catalogs.html',\n",
       " '/help/',\n",
       " '/help/',\n",
       " '/help/copyright.html',\n",
       " '/help/errata.html',\n",
       " '/help/file_formats.html',\n",
       " '/help/faq.html',\n",
       " '/policy/',\n",
       " '/help/public_domain_ebook_submission.html',\n",
       " '/help/submitting_your_own_work.html',\n",
       " '/help/mobile.html',\n",
       " '/attic/',\n",
       " '/donate/',\n",
       " '/donate/',\n",
       " '#books-last1',\n",
       " '#authors-last1',\n",
       " '#books-last7',\n",
       " '#authors-last7',\n",
       " '#books-last30',\n",
       " '#authors-last30',\n",
       " '/ebooks/1513',\n",
       " '/ebooks/2641']"
      ]
     },
     "execution_count": 9,
     "metadata": {},
     "output_type": "execute_result"
    }
   ],
   "source": [
    "ls[:35]"
   ]
  },
  {
   "cell_type": "code",
   "execution_count": 10,
   "id": "92abf242",
   "metadata": {},
   "outputs": [],
   "source": [
    "#use Regex to find numbers 4 books, starting with an empty list\n",
    "booknum = []"
   ]
  },
  {
   "cell_type": "code",
   "execution_count": 11,
   "id": "d8a03511",
   "metadata": {},
   "outputs": [],
   "source": [
    "#fill list with findall(), for ls on range(33, 133) - *to accommodate the web page changes different from the books!\n",
    "for i in range(33,133):\n",
    "    link=ls[i]\n",
    "    link=link.strip()\n",
    "    num=re.findall('[0-9]+',link)\n",
    "    if len(num)==1:\n",
    "        booknum.append(int(num[0]))"
   ]
  },
  {
   "cell_type": "code",
   "execution_count": 12,
   "id": "8b932a5c",
   "metadata": {},
   "outputs": [
    {
     "name": "stdout",
     "output_type": "stream",
     "text": [
      "\n",
      "The Following are the top 100 ebooks per Gutenberg:\n",
      "----------------------------------------------------------------------\n",
      "[1513, 2641, 145, 37106, 16389, 67979, 2701, 100, 394, 6761, 2160, 4085, 6593, 1259, 5197, 84, 1342, 11, 69984, 1952, 64317, 98, 1080, 174, 25344, 2542, 408, 1661, 23, 1400, 345, 5200, 1260, 43, 69983, 844, 76, 4300, 46, 20228, 2591, 219, 6130, 1727, 28054, 1232, 205, 2814, 2554, 42108, 1184, 69988, 1497, 36, 15399, 2600, 74, 16, 768, 2852, 7370, 5740, 3206, 45, 11030, 69989, 3207, 69985, 69976, 215, 514, 996, 120, 69979, 2680, 4363, 5827, 55, 3825, 30254, 48438, 67098, 1250, 851, 16328, 35, 158, 3600, 829, 19942, 69992, 10676, 140, 1399, 47629, 20203, 160, 69971, 58585, 2148]\n"
     ]
    }
   ],
   "source": [
    "#print booknum\n",
    "print(\"\\nThe Following are the top 100 ebooks per Gutenberg:\\n\"+\"-\"*70)\n",
    "print(booknum)    "
   ]
  },
  {
   "cell_type": "code",
   "execution_count": 13,
   "id": "fce2de7e",
   "metadata": {},
   "outputs": [
    {
     "data": {
      "text/plain": [
       "100"
      ]
     },
     "execution_count": 13,
     "metadata": {},
     "output_type": "execute_result"
    }
   ],
   "source": [
    "len(booknum)"
   ]
  },
  {
   "cell_type": "code",
   "execution_count": 14,
   "id": "08a5d013",
   "metadata": {},
   "outputs": [
    {
     "name": "stdout",
     "output_type": "stream",
     "text": [
      "\n",
      "\n",
      "\n",
      "\n",
      "Top 100 | Project Gutenberg\n",
      "\n",
      "\n",
      "\n",
      "\n",
      "\n",
      "\n",
      "\n",
      "\n",
      "\n",
      "\n",
      "\n",
      "\n",
      "\n",
      "\n",
      "\n",
      "\n",
      "\n",
      "\n",
      "\n",
      "\n",
      "\n",
      "\n",
      "\n",
      "\n",
      "\n",
      "\n",
      "\n",
      "Menu▾\n",
      "\n",
      "\n",
      "\n",
      "About\n",
      "          ▾\n",
      "\n",
      "▾\n",
      "\n",
      "\n",
      "About Project Gutenberg\n",
      "Collection Development\n",
      "Contact Us\n",
      "History & Philosophy\n",
      "Permissions & License\n",
      "Privacy Policy\n",
      "Terms of Use\n",
      "\n",
      "\n",
      "\n",
      "Search and Browse\n",
      "      \t  ▾\n",
      "\n",
      "▾\n",
      "\n",
      "\n",
      "Book Search\n",
      "Bookshelves\n",
      "Frequently Downloaded\n",
      "Offline Catalogs\n",
      "\n",
      "\n",
      "\n",
      "Help\n",
      "          ▾\n",
      "\n",
      "▾\n",
      "\n",
      "\n",
      "All help topics →\n",
      "Copyright Procedures\n",
      "Errata, Fixes and Bug Reports\n",
      "File Formats\n",
      "Frequently Asked Questions\n",
      "Policies →\n",
      "Public Domain eBook Submission\n",
      "Submitting Your Own Work\n",
      "Tablets, Phones and eReaders\n",
      "The Attic →\n",
      "\n",
      "\n",
      "Donate\n",
      "\n",
      "\n",
      "\n",
      "\n",
      "\n",
      "\n",
      "\n",
      "\n",
      "\n",
      "\n",
      "Donation\n",
      "\n",
      "\n",
      "\n",
      "\n",
      "\n",
      "\n",
      "\n",
      "Frequently Viewed or Downloaded\n",
      "These listings are based on the number of times each eBook gets downloaded.\n",
      "      Multiple downloads from the same Internet address on the same day count as one download, and addresses that download more than 100 eBooks in a day are considered robots and are not counted.\n",
      "\n",
      "Downloaded Books\n",
      "2023-02-08321465\n",
      "last 7 days1979137\n",
      "last 30 days7987892\n",
      "\n",
      "\n",
      "\n",
      "Top 100 EBooks yesterday\n",
      "Top 100 Authors yesterday\n",
      "Top 100 EBooks last 7 days\n",
      "Top 100 Authors last 7 days\n",
      "Top 100 EBooks last 30 days\n",
      "Top 100 Authors last 30 days\n",
      "\n",
      "\n",
      "Top 100 EBooks yesterday\n",
      "\n",
      "Romeo and Juliet by William Shakespeare (7331)\n",
      "A Room with a View by E. M.  Forster (6198)\n",
      "Middlemarch by George Eliot (6057)\n",
      "Little Women; Or, Meg, Jo, Beth, and Amy by Louisa May Alcott (5688)\n",
      "The Enchanted April by Elizabeth Von Arnim (5598)\n",
      "The Blue Castle: a novel by L. M.  Montgomery (5469)\n",
      "Moby Dick; Or, The Whale by Herman Melville (5408)\n",
      "The Complete Works of William Shakespeare by William Shakespeare (5368)\n",
      "Cranford by Elizabeth Cleghorn Gaskell (5283)\n",
      "The Adventures of Ferdinand Count Fathom — Complete by T.  Smollett (5270)\n",
      "The Expedition of Humphry Clinker by T.  Smollett (5131)\n",
      "The Adventures of Roderick Random by T.  Smollett (5088)\n",
      "History of Tom Jones, a Foundling by Henry Fielding (4838)\n",
      "Twenty Years After by Alexandre Dumas (4691)\n",
      "My Life — Volume 1 by Richard Wagner (4687)\n",
      "Frankenstein; Or, The Moder\n"
     ]
    },
    {
     "ename": "NameError",
     "evalue": "name 'top' is not defined",
     "output_type": "error",
     "traceback": [
      "\u001b[1;31m---------------------------------------------------------------------------\u001b[0m",
      "\u001b[1;31mNameError\u001b[0m                                 Traceback (most recent call last)",
      "Input \u001b[1;32mIn [14]\u001b[0m, in \u001b[0;36m<cell line: 3>\u001b[1;34m()\u001b[0m\n\u001b[0;32m      1\u001b[0m \u001b[38;5;66;03m#use .text method to print 1st 2,000 characters\u001b[39;00m\n\u001b[0;32m      2\u001b[0m \u001b[38;5;28mprint\u001b[39m(my_soup\u001b[38;5;241m.\u001b[39mtext[:\u001b[38;5;241m2000\u001b[39m])\n\u001b[1;32m----> 3\u001b[0m \u001b[38;5;28;01mif\u001b[39;00m (\u001b[43mtop\u001b[49m \u001b[38;5;241m!=\u001b[39m contents):\n\u001b[0;32m      4\u001b[0m     top\u001b[38;5;241m=\u001b[39m(\u001b[38;5;124m'\u001b[39m\u001b[38;5;124mhttps://www.gutenberg.org/browse/scores/top\u001b[39m\u001b[38;5;124m'\u001b[39m)\n",
      "\u001b[1;31mNameError\u001b[0m: name 'top' is not defined"
     ]
    }
   ],
   "source": [
    "#use .text method to print 1st 2,000 characters\n",
    "print(my_soup.text[:2000])\n",
    "if (top != contents):\n",
    "    top=('https://www.gutenberg.org/browse/scores/top')\n"
   ]
  },
  {
   "cell_type": "code",
   "execution_count": 15,
   "id": "0b928d08",
   "metadata": {},
   "outputs": [],
   "source": [
    "#find title names with regex\n",
    "title_names = []"
   ]
  },
  {
   "cell_type": "code",
   "execution_count": 16,
   "id": "5531738d",
   "metadata": {},
   "outputs": [],
   "source": [
    "#use splitlines method in my_soup.text\n",
    "start_idx = my_soup.text.splitlines().index('Top 100 EBooks yesterday')"
   ]
  },
  {
   "cell_type": "code",
   "execution_count": 17,
   "id": "155dee47",
   "metadata": {},
   "outputs": [
    {
     "data": {
      "text/plain": [
       "113"
      ]
     },
     "execution_count": 17,
     "metadata": {},
     "output_type": "execute_result"
    }
   ],
   "source": [
    "start_idx"
   ]
  },
  {
   "cell_type": "code",
   "execution_count": 18,
   "id": "b662fd2d",
   "metadata": {},
   "outputs": [],
   "source": [
    "#loop 1-100 to add strings to title_names, list with splitlines method\n",
    "for i in range (113):\n",
    "    title_names.append(my_soup.text.splitlines()[start_idx+2+i])"
   ]
  },
  {
   "cell_type": "code",
   "execution_count": 19,
   "id": "d6b18bc5",
   "metadata": {},
   "outputs": [
    {
     "data": {
      "text/plain": [
       "['Top 100 EBooks last 7 days',\n",
       " 'Top 100 Authors last 7 days',\n",
       " 'Top 100 EBooks last 30 days',\n",
       " 'Top 100 Authors last 30 days',\n",
       " '',\n",
       " '',\n",
       " 'Top 100 EBooks yesterday',\n",
       " '',\n",
       " 'Romeo and Juliet by William Shakespeare (7331)',\n",
       " 'A Room with a View by E. M.  Forster (6198)',\n",
       " 'Middlemarch by George Eliot (6057)',\n",
       " 'Little Women; Or, Meg, Jo, Beth, and Amy by Louisa May Alcott (5688)',\n",
       " 'The Enchanted April by Elizabeth Von Arnim (5598)',\n",
       " 'The Blue Castle: a novel by L. M.  Montgomery (5469)',\n",
       " 'Moby Dick; Or, The Whale by Herman Melville (5408)',\n",
       " 'The Complete Works of William Shakespeare by William Shakespeare (5368)',\n",
       " 'Cranford by Elizabeth Cleghorn Gaskell (5283)',\n",
       " 'The Adventures of Ferdinand Count Fathom — Complete by T.  Smollett (5270)',\n",
       " 'The Expedition of Humphry Clinker by T.  Smollett (5131)',\n",
       " 'The Adventures of Roderick Random by T.  Smollett (5088)',\n",
       " 'History of Tom Jones, a Foundling by Henry Fielding (4838)',\n",
       " 'Twenty Years After by Alexandre Dumas (4691)',\n",
       " 'My Life — Volume 1 by Richard Wagner (4687)',\n",
       " 'Frankenstein; Or, The Modern Prometheus by Mary Wollstonecraft Shelley (3543)',\n",
       " 'Pride and Prejudice by Jane Austen (2595)',\n",
       " \"Alice's Adventures in Wonderland by Lewis Carroll (1107)\",\n",
       " 'The mystery of Central Park by Nellie Bly (1061)',\n",
       " 'The Yellow Wallpaper by Charlotte Perkins Gilman (1058)',\n",
       " 'The Great Gatsby by F. Scott  Fitzgerald (1047)',\n",
       " 'A Tale of Two Cities by Charles Dickens (889)',\n",
       " 'A Modest Proposal by Jonathan Swift (889)',\n",
       " 'The Picture of Dorian Gray by Oscar Wilde (862)',\n",
       " 'The Scarlet Letter by Nathaniel Hawthorne (855)',\n",
       " \"A Doll's House : a play by Henrik Ibsen (824)\",\n",
       " 'The Souls of Black Folk by W. E. B.  Du Bois (820)',\n",
       " 'The Adventures of Sherlock Holmes by Arthur Conan Doyle (771)',\n",
       " 'Narrative of the Life of Frederick Douglass, an American Slave by Frederick Douglass (743)',\n",
       " 'Great Expectations by Charles Dickens (734)',\n",
       " 'Dracula by Bram Stoker (724)',\n",
       " 'Metamorphosis by Franz Kafka (672)',\n",
       " 'Jane Eyre: An Autobiography by Charlotte Brontë (640)',\n",
       " 'The Strange Case of Dr. Jekyll and Mr. Hyde by Robert Louis Stevenson (637)',\n",
       " 'An original theory or new hypothesis of the Universe by Thomas Wright (593)',\n",
       " 'The Importance of Being Earnest: A Trivial Comedy for Serious People by Oscar Wilde (574)',\n",
       " 'Adventures of Huckleberry Finn by Mark Twain (552)',\n",
       " 'Ulysses by James Joyce (543)',\n",
       " 'A Christmas Carol in Prose; Being a Ghost Story of Christmas by Charles Dickens (539)',\n",
       " 'Noli Me Tangere by José Rizal (536)',\n",
       " \"Grimms' Fairy Tales by Jacob Grimm and Wilhelm Grimm (534)\",\n",
       " 'Heart of Darkness by Joseph Conrad (527)',\n",
       " 'The Iliad by Homer (525)',\n",
       " 'The Odyssey by Homer (520)',\n",
       " 'The Brothers Karamazov by Fyodor Dostoyevsky (495)',\n",
       " 'The Prince by Niccolò Machiavelli (491)',\n",
       " 'Walden, and On The Duty Of Civil Disobedience by Henry David Thoreau (472)',\n",
       " 'Dubliners by James Joyce (469)',\n",
       " 'Crime and Punishment by Fyodor Dostoyevsky (460)',\n",
       " 'The Slang Dictionary: Etymological, Historical and Andecdotal by John Camden Hotten (431)',\n",
       " 'The Count of Monte Cristo, Illustrated by Alexandre Dumas (419)',\n",
       " 'The house on the cliff by Franklin W. Dixon (415)',\n",
       " 'The Republic by Plato (400)',\n",
       " 'The War of the Worlds by H. G.  Wells (400)',\n",
       " 'The Interesting Narrative of the Life of Olaudah Equiano, Or Gustavus Vassa, The African by Equiano (396)',\n",
       " 'War and Peace by graf Leo Tolstoy (394)',\n",
       " 'The Adventures of Tom Sawyer, Complete by Mark Twain (370)',\n",
       " 'Peter Pan by J. M.  Barrie (360)',\n",
       " 'Wuthering Heights by Emily Brontë (360)',\n",
       " 'The Hound of the Baskervilles by Arthur Conan Doyle (358)',\n",
       " 'Second Treatise of Government by John Locke (358)',\n",
       " 'Tractatus Logico-Philosophicus by Ludwig Wittgenstein (358)',\n",
       " 'Moby Multiple Language Lists of Common Words by Grady Ward (349)',\n",
       " 'Anne of Green Gables by L. M.  Montgomery (347)',\n",
       " 'Incidents in the Life of a Slave Girl, Written by Herself by Harriet A.  Jacobs (347)',\n",
       " 'Handicraft for boys by A. Frederick  Collins (346)',\n",
       " 'Leviathan by Thomas Hobbes (345)',\n",
       " 'Ilex cassine, the Aboriginal North American tea : by E. M. Hale (343)',\n",
       " 'All about Little Boy Blue by Emma Gelders Sterne (342)',\n",
       " 'The Call of the Wild by Jack London (337)',\n",
       " 'Little Women by Louisa May Alcott (336)',\n",
       " 'Don Quixote by Miguel de Cervantes Saavedra (326)',\n",
       " 'Treasure Island by Robert Louis Stevenson (324)',\n",
       " \"Star Book No. 225: Aunt Lydia's Rug Yarn Collection by Anonymous (320)\",\n",
       " 'Meditations by Emperor of Rome Marcus Aurelius (318)',\n",
       " 'Beyond Good and Evil by Friedrich Wilhelm Nietzsche (316)',\n",
       " 'The Problems of Philosophy by Bertrand Russell (315)',\n",
       " 'The Wonderful Wizard of Oz by L. Frank  Baum (312)',\n",
       " 'Pygmalion by Bernard Shaw (311)',\n",
       " 'The Romance of Lust: A classic Victorian erotic novel by Anonymous (304)',\n",
       " \"Rizal's own story of his life by José Rizal (301)\",\n",
       " 'Winnie-the-Pooh by A. A.  Milne (297)',\n",
       " 'Anthem by Ayn Rand (290)',\n",
       " 'Narrative of the Captivity and Restoration of Mrs. Mary Rowlandson by Mary White Rowlandson (285)',\n",
       " 'Beowulf: An Anglo-Saxon Epic Poem (284)',\n",
       " 'The Time Machine by H. G.  Wells (284)',\n",
       " 'Emma by Jane Austen (283)',\n",
       " 'Essays of Michel de Montaigne — Complete by Michel de Montaigne (281)',\n",
       " \"Gulliver's Travels into Several Remote Nations of the World by Jonathan Swift (280)\",\n",
       " 'Candide by Voltaire (279)',\n",
       " \"The botanist's repository for new and rare plants; vols 1 & 2 by Andrews (278)\",\n",
       " 'The Reign of Greed by José Rizal (277)',\n",
       " 'The Jungle by Upton Sinclair (277)',\n",
       " 'Anna Karenina by graf Leo Tolstoy (273)',\n",
       " 'Ang \"Filibusterismo\" (Karugtóng ng Noli Me Tangere) by José Rizal (269)',\n",
       " 'Autobiography of Benjamin Franklin by Benjamin Franklin (268)',\n",
       " 'The Awakening, and Selected Short Stories by Kate Chopin (267)',\n",
       " 'The Swiss Republic by Boyd Winchester (265)',\n",
       " 'The Prophet by Kahlil Gibran (265)',\n",
       " 'The Works of Edgar Allan Poe — Volume 2 by Edgar Allan Poe (262)',\n",
       " '',\n",
       " '',\n",
       " '',\n",
       " 'Top 100 EBooks yesterday',\n",
       " 'Top 100 Authors yesterday']"
      ]
     },
     "execution_count": 19,
     "metadata": {},
     "output_type": "execute_result"
    }
   ],
   "source": [
    "title_names"
   ]
  },
  {
   "cell_type": "code",
   "execution_count": 20,
   "id": "622a4e1b",
   "metadata": {},
   "outputs": [],
   "source": [
    "ls_titles = []\n",
    "for i in range(100):\n",
    "    id1,id2=re.match('^[a-zA-Z ]*',title_names[i]).span()\n",
    "    ls_titles.append(title_names[i][id1:id2])"
   ]
  },
  {
   "cell_type": "code",
   "execution_count": 21,
   "id": "eef0c4a8",
   "metadata": {},
   "outputs": [
    {
     "name": "stdout",
     "output_type": "stream",
     "text": [
      "Top \n",
      "Top \n",
      "Top \n",
      "Top \n",
      "\n",
      "\n",
      "Top \n",
      "\n",
      "Romeo and Juliet by William Shakespeare \n",
      "A Room with a View by E\n",
      "Middlemarch by George Eliot \n",
      "Little Women\n",
      "The Enchanted April by Elizabeth Von Arnim \n",
      "The Blue Castle\n",
      "Moby Dick\n",
      "The Complete Works of William Shakespeare by William Shakespeare \n",
      "Cranford by Elizabeth Cleghorn Gaskell \n",
      "The Adventures of Ferdinand Count Fathom \n",
      "The Expedition of Humphry Clinker by T\n",
      "The Adventures of Roderick Random by T\n",
      "History of Tom Jones\n",
      "Twenty Years After by Alexandre Dumas \n",
      "My Life \n",
      "Frankenstein\n",
      "Pride and Prejudice by Jane Austen \n",
      "Alice\n",
      "The mystery of Central Park by Nellie Bly \n",
      "The Yellow Wallpaper by Charlotte Perkins Gilman \n",
      "The Great Gatsby by F\n",
      "A Tale of Two Cities by Charles Dickens \n",
      "A Modest Proposal by Jonathan Swift \n",
      "The Picture of Dorian Gray by Oscar Wilde \n",
      "The Scarlet Letter by Nathaniel Hawthorne \n",
      "A Doll\n",
      "The Souls of Black Folk by W\n",
      "The Adventures of Sherlock Holmes by Arthur Conan Doyle \n",
      "Narrative of the Life of Frederick Douglass\n",
      "Great Expectations by Charles Dickens \n",
      "Dracula by Bram Stoker \n",
      "Metamorphosis by Franz Kafka \n",
      "Jane Eyre\n",
      "The Strange Case of Dr\n",
      "An original theory or new hypothesis of the Universe by Thomas Wright \n",
      "The Importance of Being Earnest\n",
      "Adventures of Huckleberry Finn by Mark Twain \n",
      "Ulysses by James Joyce \n",
      "A Christmas Carol in Prose\n",
      "Noli Me Tangere by Jos\n",
      "Grimms\n",
      "Heart of Darkness by Joseph Conrad \n",
      "The Iliad by Homer \n",
      "The Odyssey by Homer \n",
      "The Brothers Karamazov by Fyodor Dostoyevsky \n",
      "The Prince by Niccol\n",
      "Walden\n",
      "Dubliners by James Joyce \n",
      "Crime and Punishment by Fyodor Dostoyevsky \n",
      "The Slang Dictionary\n",
      "The Count of Monte Cristo\n",
      "The house on the cliff by Franklin W\n",
      "The Republic by Plato \n",
      "The War of the Worlds by H\n",
      "The Interesting Narrative of the Life of Olaudah Equiano\n",
      "War and Peace by graf Leo Tolstoy \n",
      "The Adventures of Tom Sawyer\n",
      "Peter Pan by J\n",
      "Wuthering Heights by Emily Bront\n",
      "The Hound of the Baskervilles by Arthur Conan Doyle \n",
      "Second Treatise of Government by John Locke \n",
      "Tractatus Logico\n",
      "Moby Multiple Language Lists of Common Words by Grady Ward \n",
      "Anne of Green Gables by L\n",
      "Incidents in the Life of a Slave Girl\n",
      "Handicraft for boys by A\n",
      "Leviathan by Thomas Hobbes \n",
      "Ilex cassine\n",
      "All about Little Boy Blue by Emma Gelders Sterne \n",
      "The Call of the Wild by Jack London \n",
      "Little Women by Louisa May Alcott \n",
      "Don Quixote by Miguel de Cervantes Saavedra \n",
      "Treasure Island by Robert Louis Stevenson \n",
      "Star Book No\n",
      "Meditations by Emperor of Rome Marcus Aurelius \n",
      "Beyond Good and Evil by Friedrich Wilhelm Nietzsche \n",
      "The Problems of Philosophy by Bertrand Russell \n",
      "The Wonderful Wizard of Oz by L\n",
      "Pygmalion by Bernard Shaw \n",
      "The Romance of Lust\n",
      "Rizal\n",
      "Winnie\n",
      "Anthem by Ayn Rand \n",
      "Narrative of the Captivity and Restoration of Mrs\n",
      "Beowulf\n",
      "The Time Machine by H\n",
      "Emma by Jane Austen \n",
      "Essays of Michel de Montaigne \n",
      "Gulliver\n",
      "Candide by Voltaire \n",
      "The botanist\n",
      "The Reign of Greed by Jos\n"
     ]
    }
   ],
   "source": [
    "#print ls_titles\n",
    "for l in ls_titles:\n",
    "    print(l)"
   ]
  },
  {
   "cell_type": "markdown",
   "id": "359812ac",
   "metadata": {},
   "source": [
    "* -2. Data Wrangling with Python: Activity 10, page 295"
   ]
  },
  {
   "cell_type": "code",
   "execution_count": 22,
   "id": "39f19ce4",
   "metadata": {},
   "outputs": [],
   "source": [
    "#import necessary libraries\n",
    "import urllib.request, urllib.parse, urllib.error\n",
    "import json"
   ]
  },
  {
   "cell_type": "markdown",
   "id": "406fed9c",
   "metadata": {},
   "source": [
    "https://www.omdbapi.com/\n",
    "\n",
    "My API Key:\n",
    "\n",
    "http://www.omdbapi.com/?i=tt3896198&apikey=2bb83a8d"
   ]
  },
  {
   "cell_type": "code",
   "execution_count": 23,
   "id": "a485e651",
   "metadata": {},
   "outputs": [],
   "source": [
    "#load secret API key (seen above) to APIkeys.json file and then assign portal and apikey variables\n",
    "\n",
    "portal = 'http://www.omdbapi.com/?t=movie_name'\n"
   ]
  },
  {
   "cell_type": "code",
   "execution_count": 24,
   "id": "9f63361e",
   "metadata": {},
   "outputs": [],
   "source": [
    "with open ('APIkeys.json') as f:\n",
    "    keys = json.load(f)\n",
    "    omdbapi= keys['OMDBapi']"
   ]
  },
  {
   "cell_type": "code",
   "execution_count": 25,
   "id": "10d08a48",
   "metadata": {},
   "outputs": [],
   "source": [
    "service_url= 'http://www.omdbapi.com/?'"
   ]
  },
  {
   "cell_type": "code",
   "execution_count": 26,
   "id": "38a03d4e",
   "metadata": {},
   "outputs": [],
   "source": [
    "apikey = \"&apikey=\" + omdbapi"
   ]
  },
  {
   "cell_type": "code",
   "execution_count": 27,
   "id": "286a515b",
   "metadata": {},
   "outputs": [],
   "source": [
    "def print_json(json_data):\n",
    "    list_keys=['Title', 'Year', 'Rated', 'Released', 'Runtime', 'Genre', 'Director', 'Writer', 'Actors', 'Plot', 'Language',\n",
    "               'Country', 'Awards', 'Ratings', 'Metascore', 'imdbRating', 'imdbVotes', 'imdbID']\n",
    "    print(\"-\"*50)\n",
    "    for k in list_keys:\n",
    "        if k in list(json_data.keys()):\n",
    "            print(f\"{k}:{json_data[k]}\")\n",
    "    print(\"-\"*50)"
   ]
  },
  {
   "cell_type": "code",
   "execution_count": 28,
   "id": "0ed841c9",
   "metadata": {},
   "outputs": [],
   "source": [
    "def save_poster (json_data):\n",
    "    import os \n",
    "    title = json_data['Title']\n",
    "    poster_url = json_data['Poster']\n",
    "    poster_file_extension = poster_url.split('.') [-1]\n",
    "    poster_data = urllib.request.urlopen(poster_url).read()\n",
    "    savelocation = os.getcwd()+'\\\\'+'Posters'+'\\\\'\n",
    "    if not os.path.isdir(savelocation):\n",
    "        os.mkdir(savelocation)\n",
    "    filename = savelocation+str(title)+'.'+poster_file_extension\n",
    "    f = open(filename, 'wb')\n",
    "    f.write(poster_data)\n",
    "    f.close()"
   ]
  },
  {
   "cell_type": "code",
   "execution_count": 29,
   "id": "d499f6b5",
   "metadata": {},
   "outputs": [],
   "source": [
    "def search_movie(title):\n",
    "    try:\n",
    "        url=service_url+urllib.parse.urlencode({'t': str(title)})+apikey\n",
    "        print(f'Retrieving the data of \"{title}\" now...')\n",
    "        print(url)\n",
    "        uh=urllib.request.urlopen(url)\n",
    "        data=uh.read()\n",
    "        json_data=json.loads(data)\n",
    "        \n",
    "        if json_data['Response']=='True':\n",
    "            print_json(json_data)\n",
    "            if json_data['Poster']!='N/A':\n",
    "                save_poster(json_data)\n",
    "        else:\n",
    "            print(\"Error encountered: \",json_data['Error'])\n",
    "            \n",
    "    except urllib.error.URLError as e:\n",
    "        print(f'Error: {e.reason}')"
   ]
  },
  {
   "cell_type": "code",
   "execution_count": 30,
   "id": "099f36e6",
   "metadata": {},
   "outputs": [
    {
     "name": "stdout",
     "output_type": "stream",
     "text": [
      "Retrieving the data of \"Titanic\" now...\n",
      "http://www.omdbapi.com/?t=Titanic&apikey=2bb83a8d\n",
      "--------------------------------------------------\n",
      "Title:Titanic\n",
      "Year:1997\n",
      "Rated:PG-13\n",
      "Released:19 Dec 1997\n",
      "Runtime:194 min\n",
      "Genre:Drama, Romance\n",
      "Director:James Cameron\n",
      "Writer:James Cameron\n",
      "Actors:Leonardo DiCaprio, Kate Winslet, Billy Zane\n",
      "Plot:A seventeen-year-old aristocrat falls in love with a kind but poor artist aboard the luxurious, ill-fated R.M.S. Titanic.\n",
      "Language:English, Swedish, Italian, French\n",
      "Country:United States, Mexico\n",
      "Awards:Won 11 Oscars. 126 wins & 83 nominations total\n",
      "Ratings:[{'Source': 'Internet Movie Database', 'Value': '7.9/10'}, {'Source': 'Rotten Tomatoes', 'Value': '88%'}, {'Source': 'Metacritic', 'Value': '75/100'}]\n",
      "Metascore:75\n",
      "imdbRating:7.9\n",
      "imdbVotes:1,185,567\n",
      "imdbID:tt0120338\n",
      "--------------------------------------------------\n"
     ]
    }
   ],
   "source": [
    "search_movie('Titanic')"
   ]
  },
  {
   "cell_type": "code",
   "execution_count": 31,
   "id": "6abe23c7",
   "metadata": {},
   "outputs": [
    {
     "name": "stdout",
     "output_type": "stream",
     "text": [
      "Retrieving the data of \"Blade Runner\" now...\n",
      "http://www.omdbapi.com/?t=Blade+Runner&apikey=2bb83a8d\n",
      "--------------------------------------------------\n",
      "Title:Blade Runner\n",
      "Year:1982\n",
      "Rated:R\n",
      "Released:25 Jun 1982\n",
      "Runtime:117 min\n",
      "Genre:Action, Drama, Sci-Fi\n",
      "Director:Ridley Scott\n",
      "Writer:Hampton Fancher, David Webb Peoples, Philip K. Dick\n",
      "Actors:Harrison Ford, Rutger Hauer, Sean Young\n",
      "Plot:A blade runner must pursue and terminate four replicants who stole a ship in space and have returned to Earth to find their creator.\n",
      "Language:English, German, Cantonese, Japanese, Hungarian, Arabic, Korean\n",
      "Country:United States\n",
      "Awards:Nominated for 2 Oscars. 13 wins & 19 nominations total\n",
      "Ratings:[{'Source': 'Internet Movie Database', 'Value': '8.1/10'}, {'Source': 'Rotten Tomatoes', 'Value': '89%'}, {'Source': 'Metacritic', 'Value': '84/100'}]\n",
      "Metascore:84\n",
      "imdbRating:8.1\n",
      "imdbVotes:775,925\n",
      "imdbID:tt0083658\n",
      "--------------------------------------------------\n"
     ]
    }
   ],
   "source": [
    "#Greatest Movie Ever!!!\n",
    "search_movie(\"Blade Runner\")"
   ]
  },
  {
   "cell_type": "code",
   "execution_count": 32,
   "id": "32cce5af",
   "metadata": {},
   "outputs": [
    {
     "name": "stdout",
     "output_type": "stream",
     "text": [
      "Retrieving the data of \"Random_error\" now...\n",
      "http://www.omdbapi.com/?t=Random_error&apikey=2bb83a8d\n",
      "Error encountered:  Movie not found!\n"
     ]
    }
   ],
   "source": [
    "search_movie('Random_error')"
   ]
  },
  {
   "cell_type": "code",
   "execution_count": 33,
   "id": "c4138077",
   "metadata": {},
   "outputs": [
    {
     "data": {
      "text/plain": [
       "True"
      ]
     },
     "execution_count": 33,
     "metadata": {},
     "output_type": "execute_result"
    }
   ],
   "source": [
    "import os\n",
    "os.path.isfile('Posters/Titanic.jpg')"
   ]
  },
  {
   "cell_type": "code",
   "execution_count": 34,
   "id": "10a6f8bd",
   "metadata": {},
   "outputs": [
    {
     "name": "stdout",
     "output_type": "stream",
     "text": [
      "<_io.TextIOWrapper name='Posters/Titanic.jpg' mode='r' encoding='cp1252'>\n"
     ]
    }
   ],
   "source": [
    "with open('Posters/Titanic.jpg') as f:\n",
    "    print(f)"
   ]
  },
  {
   "cell_type": "markdown",
   "id": "b4919883",
   "metadata": {},
   "source": [
    "* -3. Connect to the Twitter API and do a simple data pull\n",
    "\n",
    "\n",
    "a. If you don’t have a twitter account – create one at twitter.com/signup (you can delete the account after this assignment)\n",
    "\n",
    "b. Sign in to apps.twitter.com\n",
    "\n",
    "c. Click “Create New App”\n",
    "\n",
    "d. Give your app a name and description\n",
    "\n",
    "e. Agree to the developer agreement – you will want to make sure to indicate this is for a class project, and this step can take several days to get through, so don’t wait until last minute to complete this portion of the assignment\n",
    "\n",
    "f. Create an access token\n",
    "\n",
    "g. You should receive a consumer key and a token\n",
    "\n",
    "h. Using either the instructions from the book on connecting to an API or for help look here – pull back data searching for “Bellevue University” and “Data Science” (or something else you are interested in)\n",
    "\n",
    "i. How to Create a Twitter App and API Interface via Python. (Grogan, 2016)\n",
    "\n",
    "ii. Welcome Python-Twitter’s Documentation! (The Python-Twitter Developers, 2016)"
   ]
  },
  {
   "cell_type": "code",
   "execution_count": 35,
   "id": "5ee4d2a6",
   "metadata": {},
   "outputs": [
    {
     "name": "stdout",
     "output_type": "stream",
     "text": [
      "Requirement already satisfied: tweepy in c:\\users\\shaun\\anaconda3\\lib\\site-packages (4.12.1)\n",
      "Requirement already satisfied: oauthlib<4,>=3.2.0 in c:\\users\\shaun\\anaconda3\\lib\\site-packages (from tweepy) (3.2.2)\n",
      "Requirement already satisfied: requests-oauthlib<2,>=1.2.0 in c:\\users\\shaun\\anaconda3\\lib\\site-packages (from tweepy) (1.3.1)\n",
      "Requirement already satisfied: requests<3,>=2.27.0 in c:\\users\\shaun\\anaconda3\\lib\\site-packages (from tweepy) (2.27.1)\n",
      "Requirement already satisfied: idna<4,>=2.5 in c:\\users\\shaun\\anaconda3\\lib\\site-packages (from requests<3,>=2.27.0->tweepy) (3.3)\n",
      "Requirement already satisfied: charset-normalizer~=2.0.0 in c:\\users\\shaun\\anaconda3\\lib\\site-packages (from requests<3,>=2.27.0->tweepy) (2.0.4)\n",
      "Requirement already satisfied: certifi>=2017.4.17 in c:\\users\\shaun\\anaconda3\\lib\\site-packages (from requests<3,>=2.27.0->tweepy) (2021.10.8)\n",
      "Requirement already satisfied: urllib3<1.27,>=1.21.1 in c:\\users\\shaun\\anaconda3\\lib\\site-packages (from requests<3,>=2.27.0->tweepy) (1.26.9)\n",
      "Note: you may need to restart the kernel to use updated packages.\n"
     ]
    }
   ],
   "source": [
    "pip install tweepy"
   ]
  },
  {
   "cell_type": "code",
   "execution_count": 36,
   "id": "172613db",
   "metadata": {},
   "outputs": [
    {
     "name": "stdout",
     "output_type": "stream",
     "text": [
      "Requirement already satisfied: tweepy[async] in c:\\users\\shaun\\anaconda3\\lib\\site-packages (4.12.1)\n",
      "Requirement already satisfied: oauthlib<4,>=3.2.0 in c:\\users\\shaun\\anaconda3\\lib\\site-packages (from tweepy[async]) (3.2.2)\n",
      "Requirement already satisfied: requests<3,>=2.27.0 in c:\\users\\shaun\\anaconda3\\lib\\site-packages (from tweepy[async]) (2.27.1)\n",
      "Requirement already satisfied: requests-oauthlib<2,>=1.2.0 in c:\\users\\shaun\\anaconda3\\lib\\site-packages (from tweepy[async]) (1.3.1)\n",
      "Requirement already satisfied: aiohttp<4,>=3.7.3 in c:\\users\\shaun\\anaconda3\\lib\\site-packages (from tweepy[async]) (3.8.1)\n",
      "Requirement already satisfied: async-lru<2,>=1.0.3 in c:\\users\\shaun\\anaconda3\\lib\\site-packages (from tweepy[async]) (1.0.3)\n",
      "Requirement already satisfied: frozenlist>=1.1.1 in c:\\users\\shaun\\anaconda3\\lib\\site-packages (from aiohttp<4,>=3.7.3->tweepy[async]) (1.2.0)\n",
      "Requirement already satisfied: attrs>=17.3.0 in c:\\users\\shaun\\anaconda3\\lib\\site-packages (from aiohttp<4,>=3.7.3->tweepy[async]) (21.4.0)\n",
      "Requirement already satisfied: charset-normalizer<3.0,>=2.0 in c:\\users\\shaun\\anaconda3\\lib\\site-packages (from aiohttp<4,>=3.7.3->tweepy[async]) (2.0.4)\n",
      "Requirement already satisfied: multidict<7.0,>=4.5 in c:\\users\\shaun\\anaconda3\\lib\\site-packages (from aiohttp<4,>=3.7.3->tweepy[async]) (5.1.0)\n",
      "Requirement already satisfied: async-timeout<5.0,>=4.0.0a3 in c:\\users\\shaun\\anaconda3\\lib\\site-packages (from aiohttp<4,>=3.7.3->tweepy[async]) (4.0.1)\n",
      "Requirement already satisfied: aiosignal>=1.1.2 in c:\\users\\shaun\\anaconda3\\lib\\site-packages (from aiohttp<4,>=3.7.3->tweepy[async]) (1.2.0)\n",
      "Requirement already satisfied: yarl<2.0,>=1.0 in c:\\users\\shaun\\anaconda3\\lib\\site-packages (from aiohttp<4,>=3.7.3->tweepy[async]) (1.6.3)\n",
      "Requirement already satisfied: typing-extensions>=3.6.5 in c:\\users\\shaun\\anaconda3\\lib\\site-packages (from async-timeout<5.0,>=4.0.0a3->aiohttp<4,>=3.7.3->tweepy[async]) (4.1.1)\n",
      "Requirement already satisfied: idna<4,>=2.5 in c:\\users\\shaun\\anaconda3\\lib\\site-packages (from requests<3,>=2.27.0->tweepy[async]) (3.3)\n",
      "Requirement already satisfied: certifi>=2017.4.17 in c:\\users\\shaun\\anaconda3\\lib\\site-packages (from requests<3,>=2.27.0->tweepy[async]) (2021.10.8)\n",
      "Requirement already satisfied: urllib3<1.27,>=1.21.1 in c:\\users\\shaun\\anaconda3\\lib\\site-packages (from requests<3,>=2.27.0->tweepy[async]) (1.26.9)\n",
      "Note: you may need to restart the kernel to use updated packages.\n"
     ]
    }
   ],
   "source": [
    "pip install tweepy[async]"
   ]
  },
  {
   "cell_type": "code",
   "execution_count": 39,
   "id": "cd61cfac",
   "metadata": {},
   "outputs": [
    {
     "name": "stdout",
     "output_type": "stream",
     "text": [
      "Collecting python-twitter\n",
      "  Downloading python_twitter-3.5-py2.py3-none-any.whl (67 kB)\n",
      "Requirement already satisfied: requests in c:\\users\\shaun\\anaconda3\\lib\\site-packages (from python-twitter) (2.27.1)\n",
      "Requirement already satisfied: future in c:\\users\\shaun\\anaconda3\\lib\\site-packages (from python-twitter) (0.18.2)\n",
      "Requirement already satisfied: requests-oauthlib in c:\\users\\shaun\\anaconda3\\lib\\site-packages (from python-twitter) (1.3.1)\n",
      "Requirement already satisfied: certifi>=2017.4.17 in c:\\users\\shaun\\anaconda3\\lib\\site-packages (from requests->python-twitter) (2021.10.8)\n",
      "Note: you may need to restart the kernel to use updated packages.\n",
      "Requirement already satisfied: urllib3<1.27,>=1.21.1 in c:\\users\\shaun\\anaconda3\\lib\\site-packages (from requests->python-twitter) (1.26.9)\n",
      "Requirement already satisfied: idna<4,>=2.5 in c:\\users\\shaun\\anaconda3\\lib\\site-packages (from requests->python-twitter) (3.3)\n",
      "Requirement already satisfied: charset-normalizer~=2.0.0 in c:\\users\\shaun\\anaconda3\\lib\\site-packages (from requests->python-twitter) (2.0.4)\n",
      "Requirement already satisfied: oauthlib>=3.0.0 in c:\\users\\shaun\\anaconda3\\lib\\site-packages (from requests-oauthlib->python-twitter) (3.2.2)\n",
      "Installing collected packages: python-twitter\n",
      "Successfully installed python-twitter-3.5\n"
     ]
    }
   ],
   "source": [
    "pip install python-twitter"
   ]
  },
  {
   "cell_type": "code",
   "execution_count": 40,
   "id": "ff75b146",
   "metadata": {},
   "outputs": [],
   "source": [
    "import twitter\n",
    "api = twitter.Api(consumer_key='H6OSCwkblNCQjLJbz7qKTpeRC',\n",
    "  consumer_secret='SsaeAjIT8AIKLU8TDrHkr93Ihmu77G54zSEQ9u4wXxP5o3fEyf',\n",
    "    access_token_key='1623699333542445059-4dUWjnhgLcm3ubQ6W5McUKNEng3GRx',\n",
    "    access_token_secret='XelnILJynV6FaxfVMLX58nHSz9rU1JHzNF9DcBjGjiDH9')"
   ]
  },
  {
   "cell_type": "code",
   "execution_count": 50,
   "id": "804b0fda",
   "metadata": {},
   "outputs": [],
   "source": [
    "#print(api.VerifyCredentials())\n",
    "\n",
    "#api.GetSearch(term='Data Science', since=2023-02-01, count=50)"
   ]
  },
  {
   "cell_type": "code",
   "execution_count": 49,
   "id": "0760cd11",
   "metadata": {},
   "outputs": [
    {
     "name": "stdout",
     "output_type": "stream",
     "text": [
      "Response(data=[<Tweet id=1623729877017829376 text='RT @KeithPekau: I remember being called a science denier for the fact based COVID videos I  did as Mayor. I guess the degrees in Aerospace…'>, <Tweet id=1623729855966728193 text='@BlackHatEvents USA CFP is now open. If you have strong submissions for the AI, ML, and Data Science track we’d love to see them. I’m already bracing 😆 Please reach out if you have questions. \\n\\nhttps://t.co/hUon3Ybos6 https://t.co/1tdCgW8hUs'>, <Tweet id=1623729729550356480 text='Tired: Pivoting from data science to data engineering.\\nWired: Pivoting from data science to app building with Open AI.\\nInspired: Becoming a prompt engineer'>, <Tweet id=1623729621563846657 text='It is happening now! Thanks for visiting us @doctormaxw. You show us great work to inspire our team @INCMNSZ_CxV. We can be better, and we can be more collaborative to impact science data  EBM, great leadership  @smacve_oficial @VascularSVS @CanadianSVS https://t.co/WnR27iGB7J'>, <Tweet id=1623729608376872960 text='Top grades in \\nEssays\\nExams\\nSociology\\nThesis\\nAssignment\\nHomework\\nStats\\nTerm paper\\n....\\nresearch\\nEconomics \\nChemistry\\nBusiness\\nexcel Project\\nHistory\\nOnlineclass\\ndissertations\\nPsychology\\njava script\\nData Science\\nLinear algebra calculus Geometry statistics'>, <Tweet id=1623729590308052993 text=\"my goodness, I fucking love science! gotta tell the story that the data is revealing rather than the one that I'd've liked to tell.\">, <Tweet id=1623729566505213952 text='Top grades in \\nEssays\\nExams\\nSociology\\nThesis\\nAssignment\\nHomework\\nStats\\nTerm paper\\nresearch\\nEconomics \\nChemistry\\nBusiness\\nexcel Project\\nHistory\\nOnlineclass\\ndissertations\\nPsychology\\njava script\\nData Science\\nLinear algebra calculus Geometry statistics\\n....'>, <Tweet id=1623729539883958274 text='Top grades in \\nEssays\\nExams\\nSociology\\nThesis\\nAssignment\\nHomework\\nStats\\nTerm paper\\nresearch\\nEconomics \\nChemistry\\nBusiness\\nexcel Project\\nHistory\\nOnlineclass\\ndissertations\\nPsychology\\njava script\\nData Science\\nLinear algebra calculus Geometry statisticsb...'>, <Tweet id=1623729526818631682 text=\"RT @BanounHelene: Myocardite post ARNm selon le CDC et d'après le fichier Vaccine Safety Data\\nhttps://t.co/7vLvxr07Mi\\n\\nPublication du CDC…\">, <Tweet id=1623729502042955778 text='Top grades in \\nEssays\\nExams\\nSociology\\nThesis\\nAssignment\\nHomework\\nStats\\nTerm paper\\nresearch\\nEconomics \\nChemistry\\nBusiness\\nexcel Project\\nHistory\\nOnlineclass\\ndissertations\\nPsychology\\njava script\\nData Science\\nLinear algebra calculus Geometry Statisticsm HELP'>], includes={}, errors=[], meta={'newest_id': '1623729877017829376', 'oldest_id': '1623729502042955778', 'result_count': 10, 'next_token': 'b26v89c19zqg8o3fqk70e2kpq2hw9ek28kn5bz3mxn33x'})\n"
     ]
    }
   ],
   "source": [
    "import tweepy\n",
    "client = tweepy.Client(\"AAAAAAAAAAAAAAAAAAAAAKHqlgEAAAAAVTJO3%2FE1tfnbwt4R0kxZ1YDdqGg%3DcRKrLJFu6dxVA7ujhFyLUJKbMAxSLYrAjmQBZsUmkx0nmmt6qk\")\n",
    "# define my question as query\n",
    "query = \"Bellevue University OR #BellvueUniversity OR Data Science OR Blade Runner\"\n",
    "# search recent tweets for my query\n",
    "results1 = client.search_recent_tweets(query = query)\n",
    "print(results1)"
   ]
  },
  {
   "cell_type": "markdown",
   "id": "0fa62b8c",
   "metadata": {},
   "source": [
    "  * -4. Using one of the datasets provided in Weeks 7 & 8, or a dataset of your own, choose 3 of the following visualizations to complete. You must submit via PDF along with your code. You are free to use Matplotlib, Seaborn or another package if you prefer.\n",
    "  \n",
    "  \n",
    "a. Line\n",
    "\n",
    "b. Scatter\n",
    "\n",
    "c. Bar\n",
    "\n",
    "d. Histogram\n",
    "\n",
    "e. Density Plot\n",
    "\n",
    "f. Pie Chart"
   ]
  },
  {
   "cell_type": "code",
   "execution_count": 51,
   "id": "0dbebcc5",
   "metadata": {},
   "outputs": [],
   "source": [
    "import pandas as pd"
   ]
  },
  {
   "cell_type": "code",
   "execution_count": 90,
   "id": "77c8c490",
   "metadata": {},
   "outputs": [],
   "source": [
    "electricDF = pd.read_excel(\"C:/Users/Shaun/OneDrive/Documents/share-of-the-population-with-access-to-electricity.xlsx\")"
   ]
  },
  {
   "cell_type": "code",
   "execution_count": 91,
   "id": "44bab904",
   "metadata": {},
   "outputs": [
    {
     "data": {
      "text/html": [
       "<div>\n",
       "<style scoped>\n",
       "    .dataframe tbody tr th:only-of-type {\n",
       "        vertical-align: middle;\n",
       "    }\n",
       "\n",
       "    .dataframe tbody tr th {\n",
       "        vertical-align: top;\n",
       "    }\n",
       "\n",
       "    .dataframe thead th {\n",
       "        text-align: right;\n",
       "    }\n",
       "</style>\n",
       "<table border=\"1\" class=\"dataframe\">\n",
       "  <thead>\n",
       "    <tr style=\"text-align: right;\">\n",
       "      <th></th>\n",
       "      <th>Entity</th>\n",
       "      <th>Code</th>\n",
       "      <th>Year</th>\n",
       "      <th>Access to electricity (% of population)</th>\n",
       "    </tr>\n",
       "  </thead>\n",
       "  <tbody>\n",
       "    <tr>\n",
       "      <th>0</th>\n",
       "      <td>Afghanistan</td>\n",
       "      <td>AFG</td>\n",
       "      <td>2000</td>\n",
       "      <td>1.613591</td>\n",
       "    </tr>\n",
       "    <tr>\n",
       "      <th>1</th>\n",
       "      <td>Afghanistan</td>\n",
       "      <td>AFG</td>\n",
       "      <td>2001</td>\n",
       "      <td>4.074574</td>\n",
       "    </tr>\n",
       "    <tr>\n",
       "      <th>2</th>\n",
       "      <td>Afghanistan</td>\n",
       "      <td>AFG</td>\n",
       "      <td>2002</td>\n",
       "      <td>9.409158</td>\n",
       "    </tr>\n",
       "    <tr>\n",
       "      <th>3</th>\n",
       "      <td>Afghanistan</td>\n",
       "      <td>AFG</td>\n",
       "      <td>2003</td>\n",
       "      <td>14.738506</td>\n",
       "    </tr>\n",
       "    <tr>\n",
       "      <th>4</th>\n",
       "      <td>Afghanistan</td>\n",
       "      <td>AFG</td>\n",
       "      <td>2004</td>\n",
       "      <td>20.064968</td>\n",
       "    </tr>\n",
       "  </tbody>\n",
       "</table>\n",
       "</div>"
      ],
      "text/plain": [
       "        Entity Code  Year  Access to electricity (% of population)\n",
       "0  Afghanistan  AFG  2000                                 1.613591\n",
       "1  Afghanistan  AFG  2001                                 4.074574\n",
       "2  Afghanistan  AFG  2002                                 9.409158\n",
       "3  Afghanistan  AFG  2003                                14.738506\n",
       "4  Afghanistan  AFG  2004                                20.064968"
      ]
     },
     "execution_count": 91,
     "metadata": {},
     "output_type": "execute_result"
    }
   ],
   "source": [
    "electricDF.head()"
   ]
  },
  {
   "cell_type": "code",
   "execution_count": 92,
   "id": "ce41b5ac",
   "metadata": {},
   "outputs": [
    {
     "data": {
      "text/plain": [
       "(6279, 4)"
      ]
     },
     "execution_count": 92,
     "metadata": {},
     "output_type": "execute_result"
    }
   ],
   "source": [
    "electricDF.shape"
   ]
  },
  {
   "cell_type": "code",
   "execution_count": 95,
   "id": "0af6fe26",
   "metadata": {},
   "outputs": [],
   "source": [
    "import seaborn as sb\n",
    "import matplotlib.pyplot as plt"
   ]
  },
  {
   "cell_type": "code",
   "execution_count": 279,
   "id": "154d1c58",
   "metadata": {},
   "outputs": [
    {
     "data": {
      "text/plain": [
       "Text(0, 0.5, '% of Accessible Electricity')"
      ]
     },
     "execution_count": 279,
     "metadata": {},
     "output_type": "execute_result"
    },
    {
     "data": {
      "image/png": "[encoded data removed]",
      "text/plain": [
       "<Figure size 1224x576 with 1 Axes>"
      ]
     },
     "metadata": {
      "needs_background": "light"
     },
     "output_type": "display_data"
    }
   ],
   "source": [
    "#Bar\n",
    "BEDF=electricDF.loc[0:250,:]\n",
    "colors=['#1f77b4', '#ff7f0e', '#2ca02c', '#d62728', '#9467bd', '#8c564b', '#e377c2',\n",
    " '#7f7f7f', '#bcbd22', '#17becf']\n",
    "plt.figure(figsize=(17,8))\n",
    "plt.barh(BEDF.Entity,BEDF['Access to electricity (% of population)'], color=colors)\n",
    "plt.xticks(rotation=45)\n",
    "plt.xlabel(\"Countries with Electricity Access at Different Intervals\", fontsize=\"large\")\n",
    "plt.ylabel(\"% of Accessible Electricity\", fontsize=\"large\")\n"
   ]
  },
  {
   "cell_type": "code",
   "execution_count": 280,
   "id": "ceb2a9f3",
   "metadata": {},
   "outputs": [
    {
     "data": {
      "image/png": "[encoded data removed]",
      "text/plain": [
       "<Figure size 1224x576 with 1 Axes>"
      ]
     },
     "metadata": {
      "needs_background": "light"
     },
     "output_type": "display_data"
    }
   ],
   "source": [
    "#Histogram\n",
    "\n",
    "plt.figure(figsize=(17,8))\n",
    "HEDF=electricDF.loc[0:50,:]\n",
    "\n",
    "data = [HEDF['Access to electricity (% of population)']]\n",
    "\n",
    "sb.histplot(data)\n",
    "\n",
    "\n",
    "plt.title('Access to electricity for Countries by their %', fontsize=\"large\" )\n",
    "plt.show()\n"
   ]
  },
  {
   "cell_type": "code",
   "execution_count": 281,
   "id": "f6a849fe",
   "metadata": {},
   "outputs": [
    {
     "data": {
      "text/plain": [
       "<seaborn.axisgrid.FacetGrid at 0x1e60a1360a0>"
      ]
     },
     "execution_count": 281,
     "metadata": {},
     "output_type": "execute_result"
    },
    {
     "data": {
      "text/plain": [
       "<Figure size 1080x720 with 0 Axes>"
      ]
     },
     "metadata": {},
     "output_type": "display_data"
    },
    {
     "data": {
      "image/png": "[encoded data removed]",
      "text/plain": [
       "<Figure size 360x360 with 1 Axes>"
      ]
     },
     "metadata": {
      "needs_background": "light"
     },
     "output_type": "display_data"
    }
   ],
   "source": [
    "#Density Plot\n",
    "plt.figure(figsize=(15,10))\n",
    "DEDF=electricDF.loc[500:750,:]\n",
    "sb.displot(DEDF['Access to electricity (% of population)'])\n"
   ]
  },
  {
   "cell_type": "code",
   "execution_count": 282,
   "id": "26d347c8",
   "metadata": {},
   "outputs": [
    {
     "data": {
      "text/html": [
       "<div>\n",
       "<style scoped>\n",
       "    .dataframe tbody tr th:only-of-type {\n",
       "        vertical-align: middle;\n",
       "    }\n",
       "\n",
       "    .dataframe tbody tr th {\n",
       "        vertical-align: top;\n",
       "    }\n",
       "\n",
       "    .dataframe thead th {\n",
       "        text-align: right;\n",
       "    }\n",
       "</style>\n",
       "<table border=\"1\" class=\"dataframe\">\n",
       "  <thead>\n",
       "    <tr style=\"text-align: right;\">\n",
       "      <th></th>\n",
       "      <th>Entity</th>\n",
       "      <th>Code</th>\n",
       "      <th>Year</th>\n",
       "      <th>Access to electricity (% of population)</th>\n",
       "    </tr>\n",
       "  </thead>\n",
       "  <tbody>\n",
       "    <tr>\n",
       "      <th>1869</th>\n",
       "      <td>Fiji</td>\n",
       "      <td>FJI</td>\n",
       "      <td>1997</td>\n",
       "      <td>71.771515</td>\n",
       "    </tr>\n",
       "    <tr>\n",
       "      <th>1870</th>\n",
       "      <td>Fiji</td>\n",
       "      <td>FJI</td>\n",
       "      <td>1998</td>\n",
       "      <td>73.089584</td>\n",
       "    </tr>\n",
       "    <tr>\n",
       "      <th>1871</th>\n",
       "      <td>Fiji</td>\n",
       "      <td>FJI</td>\n",
       "      <td>1999</td>\n",
       "      <td>74.402817</td>\n",
       "    </tr>\n",
       "    <tr>\n",
       "      <th>1872</th>\n",
       "      <td>Fiji</td>\n",
       "      <td>FJI</td>\n",
       "      <td>2000</td>\n",
       "      <td>75.724922</td>\n",
       "    </tr>\n",
       "    <tr>\n",
       "      <th>1873</th>\n",
       "      <td>Fiji</td>\n",
       "      <td>FJI</td>\n",
       "      <td>2001</td>\n",
       "      <td>77.000679</td>\n",
       "    </tr>\n",
       "    <tr>\n",
       "      <th>1874</th>\n",
       "      <td>Fiji</td>\n",
       "      <td>FJI</td>\n",
       "      <td>2002</td>\n",
       "      <td>79.629997</td>\n",
       "    </tr>\n",
       "    <tr>\n",
       "      <th>1875</th>\n",
       "      <td>Fiji</td>\n",
       "      <td>FJI</td>\n",
       "      <td>2003</td>\n",
       "      <td>80.000000</td>\n",
       "    </tr>\n",
       "  </tbody>\n",
       "</table>\n",
       "</div>"
      ],
      "text/plain": [
       "     Entity Code  Year  Access to electricity (% of population)\n",
       "1869   Fiji  FJI  1997                                71.771515\n",
       "1870   Fiji  FJI  1998                                73.089584\n",
       "1871   Fiji  FJI  1999                                74.402817\n",
       "1872   Fiji  FJI  2000                                75.724922\n",
       "1873   Fiji  FJI  2001                                77.000679\n",
       "1874   Fiji  FJI  2002                                79.629997\n",
       "1875   Fiji  FJI  2003                                80.000000"
      ]
     },
     "execution_count": 282,
     "metadata": {},
     "output_type": "execute_result"
    }
   ],
   "source": [
    "#Pie Chart\n",
    "PEDF=electricDF.loc[1869:1875,:]\n",
    "PEDF"
   ]
  },
  {
   "cell_type": "code",
   "execution_count": 283,
   "id": "ac00fbf7",
   "metadata": {},
   "outputs": [
    {
     "data": {
      "image/png": "[encoded data removed]",
      "text/plain": [
       "<Figure size 1224x576 with 1 Axes>"
      ]
     },
     "metadata": {},
     "output_type": "display_data"
    }
   ],
   "source": [
    "plt.figure(figsize=(17,8))\n",
    "\n",
    "labels=['2003=80%','2002=79.6%','2001=77%','2000=75.7%','1999=74.4%','1998=73%', '1997=71.8%']\n",
    "\n",
    "_=plt.pie(CountStatus, labels=labels, wedgeprops={'edgecolor':'black'}, explode=[.15,0,0,0,0,0,0], shadow=True)\n",
    "plt.title(\"Yearly Percentages for Electricity Access in Fiji from 1997 - 2003\", fontsize=\"large\")\n",
    "plt.show()"
   ]
  },
  {
   "cell_type": "code",
   "execution_count": null,
   "id": "89a54153",
   "metadata": {},
   "outputs": [],
   "source": []
  }
 ],
 "metadata": {
  "kernelspec": {
   "display_name": "Python 3 (ipykernel)",
   "language": "python",
   "name": "python3"
  },
  "language_info": {
   "codemirror_mode": {
    "name": "ipython",
    "version": 3
   },
   "file_extension": ".py",
   "mimetype": "text/x-python",
   "name": "python",
   "nbconvert_exporter": "python",
   "pygments_lexer": "ipython3",
   "version": "3.9.12"
  }
 },
 "nbformat": 4,
 "nbformat_minor": 5
}
